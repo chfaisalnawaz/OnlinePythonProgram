{
 "cells": [
  {
   "cell_type": "markdown",
   "id": "6d8730e4",
   "metadata": {},
   "source": [
    "# 1. Write a program to print the following string in a specific format(see the out put) "
   ]
  },
  {
   "cell_type": "code",
   "execution_count": 39,
   "id": "3baf292a",
   "metadata": {},
   "outputs": [
    {
     "name": "stdout",
     "output_type": "stream",
     "text": [
      "Twinkle, twinkle, little star,\n",
      "\tHow I wonder what you are! \n",
      "\t\tUp above the world so high, \n",
      "\t\tLike a diamond in the sky. \n",
      "Twinkle, twinkle, little star, \n",
      "\tHow I wonder what you are!\n"
     ]
    }
   ],
   "source": [
    "print(\"Twinkle, twinkle, little star,\\n\\tHow I wonder what you are! \\n\\t\\tUp above the world so high, \\n\\t\\tLike a diamond in the sky. \\nTwinkle, twinkle, little star, \\n\\tHow I wonder what you are!\")"
   ]
  },
  {
   "cell_type": "markdown",
   "id": "8e6eebc8",
   "metadata": {},
   "source": [
    "# 2. Write a Program to get the python version you are using."
   ]
  },
  {
   "cell_type": "code",
   "execution_count": 3,
   "id": "119b0d99",
   "metadata": {},
   "outputs": [
    {
     "name": "stdout",
     "output_type": "stream",
     "text": [
      "Your Python Version is 3.8.8 (default, Apr 13 2021, 15:08:03) [MSC v.1916 64 bit (AMD64)]\n"
     ]
    }
   ],
   "source": [
    "import sys\n",
    "print(f\"Your Python Version is {sys.version}\")"
   ]
  },
  {
   "cell_type": "markdown",
   "id": "b471a2c6",
   "metadata": {},
   "source": [
    "# 3. Write a Program to display current time and date."
   ]
  },
  {
   "cell_type": "code",
   "execution_count": 25,
   "id": "8db046ba",
   "metadata": {},
   "outputs": [
    {
     "name": "stdout",
     "output_type": "stream",
     "text": [
      "Current date and time : 2021-10-24 01:44:00\n"
     ]
    }
   ],
   "source": [
    "import datetime\n",
    "time_now = datetime.datetime.now()\n",
    "now = time_now.strftime(\"%Y-%m-%d %H:%M:%S\")\n",
    "print(f\"Current date and time : {now}\")"
   ]
  },
  {
   "cell_type": "markdown",
   "id": "12630668",
   "metadata": {},
   "source": [
    "# 4. Write a program which accepts the radius of circule from the user and compute the area."
   ]
  },
  {
   "cell_type": "code",
   "execution_count": 12,
   "id": "0c0a0c5e",
   "metadata": {},
   "outputs": [
    {
     "name": "stdout",
     "output_type": "stream",
     "text": [
      "Enter your radius: 1.1\n",
      "Your radius is 3.8013239000000003\n"
     ]
    }
   ],
   "source": [
    "user = float(input(\"Enter your radius: \"))\n",
    "pei = 3.14159\n",
    "r = user\n",
    "result = pei*r**2\n",
    "print(f\"Your radius is {result}\")"
   ]
  },
  {
   "cell_type": "markdown",
   "id": "a82a4f63",
   "metadata": {},
   "source": [
    "# 5. Write a python program which accepts the user's first and last name and print them in reverse order with a space between them."
   ]
  },
  {
   "cell_type": "code",
   "execution_count": 14,
   "id": "25504953",
   "metadata": {},
   "outputs": [
    {
     "name": "stdout",
     "output_type": "stream",
     "text": [
      "Enter your first name: Faisal\n",
      "Enter your last name: Nawaz\n",
      "Nawaz Faisal\n"
     ]
    }
   ],
   "source": [
    "user_frist = input(\"Enter your first name: \")\n",
    "user_last = input(\"Enter your last name: \")\n",
    "print(user_last, user_frist)"
   ]
  },
  {
   "cell_type": "markdown",
   "id": "73be0ce3",
   "metadata": {},
   "source": [
    "# 6. Write a python which takes two inputs from users and print them addition."
   ]
  },
  {
   "cell_type": "code",
   "execution_count": 16,
   "id": "9d7da7bd",
   "metadata": {},
   "outputs": [
    {
     "name": "stdout",
     "output_type": "stream",
     "text": [
      "Enter your first argument: 5\n",
      "Enter your first argument: 4\n",
      "54\n"
     ]
    }
   ],
   "source": [
    "user_one = input(\"Enter your first argument: \")\n",
    "user_two = input(\"Enter your first argument: \") \n",
    "print(user_one + user_two)"
   ]
  },
  {
   "cell_type": "markdown",
   "id": "78f4acd5",
   "metadata": {},
   "source": [
    "# 7. Write a python which takes five inputs from user for different subject's marks, total it and generate mark sheet using grades."
   ]
  },
  {
   "cell_type": "code",
   "execution_count": 24,
   "id": "abb1478c",
   "metadata": {},
   "outputs": [
    {
     "name": "stdout",
     "output_type": "stream",
     "text": [
      "Enter your subject marks: 90\n",
      "Enter your subject marks: 80\n",
      "Enter your subject marks: 75\n",
      "Enter your subject marks: 95\n",
      "Enter your subject marks: 85\n",
      "\n",
      "The Total marks is:   \t 425.0 / 500.00\n",
      "\n",
      "The Average marks is: \t 85.0\n",
      "\n",
      "The Percentage is:    \t 85.0 %\n",
      "\n",
      "The Grade is:         \t A\n"
     ]
    }
   ],
   "source": [
    "Sub_one = float(input(\"Enter your subject marks: \"))\n",
    "Sub_two = float(input(\"Enter your subject marks: \"))\n",
    "Sub_three = float(input(\"Enter your subject marks: \"))\n",
    "Sub_four = float(input(\"Enter your subject marks: \"))\n",
    "Sub_five = float(input(\"Enter your subject marks: \"))\n",
    "\n",
    "total = Sub_one + Sub_two + Sub_three + Sub_four + Sub_five\n",
    "avrg = total/5.0\n",
    "prcntg = (total/500)*100\n",
    "\n",
    "\n",
    "if avrg >= 90:\n",
    "    grade = \"A+\"\n",
    "elif avrg >= 80:\n",
    "    grade = \"A\"\n",
    "elif avrg >= 70:\n",
    "    grade = \"B+\"\n",
    "elif avrg >= 60:\n",
    "    grade = \"B\"\n",
    "elif avrg >= 50:\n",
    "    grade = \"C\"\n",
    "elif avrg >= 45:\n",
    "    grade = \"D\"\n",
    "else:\n",
    "    print(\"You are faild! Try Again\")\n",
    "    \n",
    "print (\"\\nThe Total marks is:   \\t\", total, \"/ 500.00\")\n",
    "print (\"\\nThe Average marks is: \\t\", avrg)\n",
    "print (\"\\nThe Percentage is:    \\t\", prcntg, \"%\")\n",
    "print (\"\\nThe Grade is:         \\t\", grade)"
   ]
  },
  {
   "cell_type": "markdown",
   "id": "f8cc533f",
   "metadata": {},
   "source": [
    "# 8.  Write a python which takes input from user and identify that the given number is even or odd?"
   ]
  },
  {
   "cell_type": "code",
   "execution_count": 28,
   "id": "d3d1accc",
   "metadata": {},
   "outputs": [
    {
     "name": "stdout",
     "output_type": "stream",
     "text": [
      "Enter Your Number: 8\n",
      "It is even number.\n"
     ]
    }
   ],
   "source": [
    "num = int(input(\"Enter Your Number: \"))\n",
    "if num % 2 == 0:\n",
    "    print(\"It is even number.\")\n",
    "else:\n",
    "    print(\"It is odd number.\")"
   ]
  },
  {
   "cell_type": "markdown",
   "id": "5f8f2bce",
   "metadata": {},
   "source": [
    "# 9. Write a program which print the length of list."
   ]
  },
  {
   "cell_type": "code",
   "execution_count": 30,
   "id": "1621beab",
   "metadata": {},
   "outputs": [
    {
     "name": "stdout",
     "output_type": "stream",
     "text": [
      "length of list is: 6\n"
     ]
    }
   ],
   "source": [
    "user_list = [50,65,\"nun\", \"pakistan\",\"jawan\",\"python\"]\n",
    "print(f\"length of list is: {len(user_list)}\")"
   ]
  },
  {
   "cell_type": "markdown",
   "id": "e1c9254e",
   "metadata": {},
   "source": [
    "# 10. Write a python program to sum all the numeric items in list."
   ]
  },
  {
   "cell_type": "code",
   "execution_count": 36,
   "id": "a7578f68",
   "metadata": {},
   "outputs": [
    {
     "name": "stdout",
     "output_type": "stream",
     "text": [
      "420\n"
     ]
    }
   ],
   "source": [
    "user_list = [54,85,94,95,6,8,78] \n",
    "total = 0\n",
    "for a in user_list:\n",
    "    total += a\n",
    "print(total)"
   ]
  },
  {
   "cell_type": "markdown",
   "id": "48a84f20",
   "metadata": {},
   "source": [
    "# 11. Write a python program to get the largest number from numeric list."
   ]
  },
  {
   "cell_type": "code",
   "execution_count": 37,
   "id": "86d33e52",
   "metadata": {},
   "outputs": [
    {
     "name": "stdout",
     "output_type": "stream",
     "text": [
      "The largest number is: 95\n"
     ]
    }
   ],
   "source": [
    "user_list = [54,85,94,95,6,8,78] \n",
    "print(f\"The largest number is: {max(user_list)}\")"
   ]
  },
  {
   "cell_type": "markdown",
   "id": "97389d8d",
   "metadata": {},
   "source": [
    "# 12. Write a program that prints out all the elements of the list that are less than 5."
   ]
  },
  {
   "cell_type": "code",
   "execution_count": 38,
   "id": "706b4548",
   "metadata": {},
   "outputs": [
    {
     "name": "stdout",
     "output_type": "stream",
     "text": [
      "[1, 1, 2, 3]\n"
     ]
    }
   ],
   "source": [
    "a = [1,1,2,3,5,8,13,21,34,55,89]\n",
    "new_list = []\n",
    "for item in a:\n",
    "    if item < 5:\n",
    "        new_list.append(item)\n",
    "print(new_list)"
   ]
  },
  {
   "cell_type": "code",
   "execution_count": null,
   "id": "1e0285d6",
   "metadata": {},
   "outputs": [],
   "source": []
  }
 ],
 "metadata": {
  "kernelspec": {
   "display_name": "Python 3",
   "language": "python",
   "name": "python3"
  },
  "language_info": {
   "codemirror_mode": {
    "name": "ipython",
    "version": 3
   },
   "file_extension": ".py",
   "mimetype": "text/x-python",
   "name": "python",
   "nbconvert_exporter": "python",
   "pygments_lexer": "ipython3",
   "version": "3.8.8"
  }
 },
 "nbformat": 4,
 "nbformat_minor": 5
}
